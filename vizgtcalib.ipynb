{
 "cells": [
  {
   "cell_type": "code",
   "execution_count": null,
   "metadata": {},
   "outputs": [],
   "source": [
    "import pandas as pd\n",
    "import numpy as np\n",
    "\n",
    "import matplotlib.pyplot as plt\n",
    "from copy import deepcopy\n",
    "from datetime import datetime\n",
    "from util.dataloader import *\n",
    "from util.preprocessing import *\n",
    "from util.formatting import *\n",
    "from util.plot import *\n",
    "\n",
    "# load cached bison data; replace filepath/dataloading as appropriate\n",
    "# filepath = \"/Users/audreyder/Neuralix/syncdatabase_{}.csv\".format(datetime.now())\n",
    "# data = fetch_bison_data(filepath)\n",
    "site_names_ids = {'canadian': 57740, \n",
    "                  'siegrist': 33467,\n",
    "                  'calumet': 33614,\n",
    "                  'union_city': 33404}\n",
    "filepath = \"/Users/audreyder/Neuralix/syncdatabase_2025-01-24.csv\"\n",
    "data = cached_bison_data(filepath)\n",
    "print(data.iloc[0]['timestamp'])\n",
    "print(data.iloc[-1]['timestamp'])\n"
   ]
  },
  {
   "cell_type": "code",
   "execution_count": null,
   "metadata": {},
   "outputs": [],
   "source": [
    "site_ids = np.unique(data['site_id'])\n",
    "site_bounds = {site_id: None for site_id in site_ids}\n",
    "for site_id in site_ids:\n",
    "    site_data = data[data['site_id']==site_id]\n",
    "    site_bounds[site_id] = (site_data.iloc[0].name, site_data.iloc[-1].name)\n",
    "print(site_bounds)"
   ]
  },
  {
   "cell_type": "code",
   "execution_count": null,
   "metadata": {},
   "outputs": [],
   "source": [
    "twohr_rate_1_min = 120\n",
    "twohr_rate_5_min = 24\n",
    "\n",
    "# NOTES\n",
    "# union city: 33404, one minute -- '2024-12-17 12:00:00'\n",
    "# siegrist: 33467, five minutes -- '2024-12-17 10:00:00'\n",
    "# canadian: 57740, one minutes -- '2024-12-13 12:00:00'\n",
    "# calumet: 33614, five minutes -- '2024-12-13 12:00:00' 69969 is ~midnight sept 1 2024\n",
    "\n",
    "# OLD -- found starting times based on the above notes by hand\n",
    "# unioncity_start = 259943 \n",
    "# seigrist_start = 66050 \n",
    "# canadian_start = 254170 \n",
    "# calumet_start = 100021\n",
    "\n",
    "# Stage 1: Estimate time stamps for when each stage of calibration is happening given a label for when (date, time) calibration begins for a site\n",
    "# 1. begin with your site id\n",
    "# 2. specify your query start date and time for calibration \n",
    "# 3. find the closest time and date match in the dataframe to your query (default time is 00:00:00 if no time is specified)\n",
    "# 4. hardcode the different frequencies you know are being calibrated # (Stage 2: automate this based on info given in steps 2 and 3 here)\n",
    "# 5. format the estimated ground truth for calibration\n",
    "# 6. plot it\n",
    "\n",
    "unioncity_id = 33404 # 1\n",
    "unioncity_startdate = '2024-12-17' # 2\n",
    "unioncity_startime = '12:00:00'\n",
    "unioncity_timestamp, unioncity_start = find_closest_time(data[data['site_id']==unioncity_id], unioncity_startdate, query_time=unioncity_startime) # 3\n",
    "print(unioncity_timestamp)\n",
    "unioncity_freqs = [46,48,50,52,54,56] # 4\n",
    "unioncity = format_sitegts(unioncity_start,unioncity_freqs,twohr_rate_5_min) # 5\n",
    "\n",
    "siegrist_id = 33467\n",
    "seigrist_startdate = '2024-12-17'\n",
    "seigrist_starttime = '10:00:00'\n",
    "seigrist_timestamp, seigrist_start = find_closest_time(data[data['site_id']==siegrist_id], seigrist_startdate, query_time=seigrist_starttime)\n",
    "seigrist_freqs = [47,49,51,53,55,57] # future: automate based on the above given timestamp\n",
    "print(seigrist_timestamp)\n",
    "siegrist = format_sitegts(seigrist_start,seigrist_freqs,twohr_rate_5_min) \n",
    "\n",
    "canadian_id = 57740\n",
    "canadian_startdate = '2024-12-13'\n",
    "canadian_starttime = '12:00:00'\n",
    "canadian_timestamp, canadian_start = find_closest_time(data[data['site_id']==canadian_id], canadian_startdate, query_time=canadian_starttime)\n",
    "print(canadian_timestamp, canadian_start)\n",
    "canadian_freqs = [44,47,49,51,53,55,57,59] # future: automate based on the above given timestamp\n",
    "canadian = format_sitegts(canadian_start,canadian_freqs,twohr_rate_1_min)\n",
    "\n",
    "calumet_id = 33614\n",
    "calumet_startdate = '2025-01-15'\n",
    "calumet_starttime = '15:00:00'\n",
    "calumet_timestamp, calumet_start = find_closest_time(data[data['site_id']==calumet_id], calumet_startdate, query_time=calumet_starttime)\n",
    "print(calumet_timestamp, calumet_start)\n",
    "calumet_freqs = [48,50,52,54,56,58] # future: automate based on the above given timestamp\n",
    "calumet = format_sitegts(calumet_start,calumet_freqs,twohr_rate_5_min)\n",
    "\n",
    "sitegts = {unioncity_id:unioncity, siegrist_id:siegrist, canadian_id:canadian, calumet_id:calumet}\n",
    "\n",
    "# QUICK COMMANDS -- feel free to ignore\n",
    "# print(data[data['site_id']==33614]) # look at the data for a given site\n",
    "# s_temp = 100461\n",
    "# print(data[s_temp:s_temp+twohr_rate_5_min][['timestamp','flow rate']]) # quickly check the two hour duration based off a start index & given sampling rate"
   ]
  },
  {
   "cell_type": "code",
   "execution_count": null,
   "metadata": {},
   "outputs": [],
   "source": [
    "for site_id in sitegts.keys(): # 6\n",
    "    print(site_id)\n",
    "    freq_data = data['frequency']\n",
    "    plot_ts_gt(sitegts, freq_data, site_id, site_bounds[site_id])"
   ]
  },
  {
   "cell_type": "code",
   "execution_count": null,
   "metadata": {},
   "outputs": [],
   "source": [
    "# copied from sites_info: \n",
    "# https://github.com/neuralix-ai/dev_RyanMercer/blob/dev/notebooks/Customers/Bison/2024-12-29_Bison_PumpCurve_x-axisHealth_calibrated_alert.ipynb\n",
    "ryan_cached_gt = cached_site_info() \n",
    "audrey_sitegts = deepcopy(sitegts)\n",
    "\n",
    "print(ryan_cached_gt)\n",
    "# np.savetxt(\"cached_gt.txt\",ryan_cached_gt)\n",
    "replace_this_every_week_ryan = ryan_format(data, ryan_cached_gt, audrey_sitegts)\n",
    "# np.savetxt(\"replace_this_every_week.txt\",replace_this_every_week_ryan)\n",
    "print(replace_this_every_week_ryan)\n",
    "# examine how the timestamps change from \"my rough guess was about noon\" --> \"the precise time in the dataframe is 12:00:19\""
   ]
  },
  {
   "cell_type": "code",
   "execution_count": null,
   "metadata": {},
   "outputs": [],
   "source": [
    "sampling_rates = {33404:twohr_rate_1_min, 33467:twohr_rate_5_min, 57740:twohr_rate_1_min, 33614:twohr_rate_5_min}\n",
    "ryan_cached_to_audrey_format = ryan_site_info_to_audrey_format(data, ryan_cached_gt, sampling_rates)\n",
    "print(ryan_cached_to_audrey_format)\n",
    "replace_every_week_to_audrey_format = ryan_site_info_to_audrey_format(data, replace_this_every_week_ryan, sampling_rates)\n",
    "print(replace_every_week_to_audrey_format)\n",
    "\n",
    "# these are a tad different because ...\n",
    "# ... I made time stamps mutually exclusive to a particular calibration frequency, whereas a calibration stage could start at 14:00:00 AND another could begin at 14:00:00"
   ]
  },
  {
   "cell_type": "code",
   "execution_count": null,
   "metadata": {},
   "outputs": [],
   "source": []
  }
 ],
 "metadata": {
  "kernelspec": {
   "display_name": "bison",
   "language": "python",
   "name": "python3"
  },
  "language_info": {
   "codemirror_mode": {
    "name": "ipython",
    "version": 3
   },
   "file_extension": ".py",
   "mimetype": "text/x-python",
   "name": "python",
   "nbconvert_exporter": "python",
   "pygments_lexer": "ipython3",
   "version": "3.12.8"
  }
 },
 "nbformat": 4,
 "nbformat_minor": 2
}
