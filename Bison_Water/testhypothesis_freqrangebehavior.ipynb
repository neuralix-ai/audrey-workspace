{
 "cells": [
  {
   "cell_type": "code",
   "execution_count": 1,
   "metadata": {},
   "outputs": [
    {
     "name": "stdout",
     "output_type": "stream",
     "text": [
      "Adding Datetime Timestamp and Delta T columns...\n",
      "Data columns: Index(['site_id', 'pump_id', 'timestamp', 'facility_name', 'vibration',\n",
      "       'thrust temperature', 'suction pressure', 'discharge pressure',\n",
      "       'flow rate', 'frequency', 'amps', 'ampsa', 'ampsb', 'ampsc', 'volts',\n",
      "       'voltsa', 'voltsb', 'voltsc', 'meter total', 'timestamp_datetime',\n",
      "       'delta_t'],\n",
      "      dtype='object')\n",
      "Number of rows: 261210\n",
      "Earliest timestamp: 2024-11-12 16:55:10\n",
      "Latest timestamp: 2025-02-10 16:53:03\n"
     ]
    },
    {
     "name": "stderr",
     "output_type": "stream",
     "text": [
      "/Users/audreyder/Neuralix/audrey-workspace/Bison_Water/util/preprocessing.py:74: SettingWithCopyWarning: \n",
      "A value is trying to be set on a copy of a slice from a DataFrame.\n",
      "Try using .loc[row_indexer,col_indexer] = value instead\n",
      "\n",
      "See the caveats in the documentation: https://pandas.pydata.org/pandas-docs/stable/user_guide/indexing.html#returning-a-view-versus-a-copy\n",
      "  df[frequency_int_column] = df[frequency_float_column].round().astype('Int64')\n"
     ]
    }
   ],
   "source": [
    "import pandas as pd\n",
    "import numpy as np \n",
    "from copy import deepcopy\n",
    "from util.dataloader import cached_bison_data, cached_site_info\n",
    "from util.preprocessing import *\n",
    "from util.calculations import *\n",
    "from util.format_calculations import *\n",
    "import plotly.express as px\n",
    "import plotly.io as pio\n",
    "from IPython.display import Image\n",
    "\n",
    "# load data\n",
    "filepath = \"/Users/audreyder/Neuralix/syncdatabase_2025-02-10.csv\"\n",
    "data = cached_bison_data(filepath) \n",
    "\n",
    "# filter data / preprocess\n",
    "data = threshold_filtering(data)\n",
    "# load pump curve datas\n",
    "site_ids = np.unique(data['site_id'])\n",
    "sites_info = cached_site_info(dict=True)"
   ]
  },
  {
   "cell_type": "code",
   "execution_count": 2,
   "metadata": {},
   "outputs": [],
   "source": [
    "# take the data\n",
    "# for each pair of adjacent frequencies, take the difference between kWh/BBL and plot it over time"
   ]
  },
  {
   "cell_type": "code",
   "execution_count": 3,
   "metadata": {},
   "outputs": [],
   "source": [
    "def plot_scatter(plot_data,site_name,sampling_interval,opacity):\n",
    "    x_min, x_max = 4500,22000\n",
    "    y_min, y_max = 0.35,1.5\n",
    "    fig = px.scatter(plot_data,x='flow rate', y='kWh/BBL',\n",
    "                    color=\"frequency\",opacity=opacity,color_continuous_scale=px.colors.sequential.Turbo,range_color=[40,60],\n",
    "                    title=\"Site: {}, Estimated Sampling Interval (min.): {}\".format(site_name,sampling_interval),height=700,width=1100)\n",
    "    fig.update_layout(xaxis_range=[x_min, x_max], yaxis_range=[y_min, y_max])\n",
    "    img_bytes = pio.to_image(fig,format='png')\n",
    "    Image(img_bytes)\n",
    "    fig.show()\n",
    "    return"
   ]
  },
  {
   "cell_type": "code",
   "execution_count": null,
   "metadata": {},
   "outputs": [],
   "source": [
    "# calib_kpis_all_sites = {site_id:None for site_id in sites_calib}\n",
    "\n",
    "# for site_id in site_ids:\n",
    "site_id = 33614\n",
    "site_name = sites_info[site_id]['site_name']\n",
    "site_data = deepcopy(data[data['site_id']==site_id]) # Looks at individual site data\n",
    "print(site_data['timestamp'].iloc[0],site_data['timestamp'].iloc[-1])\n",
    "# # if site_id in sites_calib:\n",
    "# plot_site_concept_drift(site_data,site_id,site_name)"
   ]
  },
  {
   "cell_type": "code",
   "execution_count": null,
   "metadata": {},
   "outputs": [],
   "source": []
  }
 ],
 "metadata": {
  "kernelspec": {
   "display_name": "bison",
   "language": "python",
   "name": "python3"
  },
  "language_info": {
   "codemirror_mode": {
    "name": "ipython",
    "version": 3
   },
   "file_extension": ".py",
   "mimetype": "text/x-python",
   "name": "python",
   "nbconvert_exporter": "python",
   "pygments_lexer": "ipython3",
   "version": "3.12.8"
  }
 },
 "nbformat": 4,
 "nbformat_minor": 2
}
